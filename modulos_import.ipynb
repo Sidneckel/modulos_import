{
  "nbformat": 4,
  "nbformat_minor": 0,
  "metadata": {
    "colab": {
      "provenance": [],
      "authorship_tag": "ABX9TyOJVphBtKi8OswW65MshYrc",
      "include_colab_link": true
    },
    "kernelspec": {
      "name": "python3",
      "display_name": "Python 3"
    },
    "language_info": {
      "name": "python"
    }
  },
  "cells": [
    {
      "cell_type": "markdown",
      "metadata": {
        "id": "view-in-github",
        "colab_type": "text"
      },
      "source": [
        "<a href=\"https://colab.research.google.com/github/Sidneckel/modulos_import/blob/main/modulos_import.ipynb\" target=\"_parent\"><img src=\"https://colab.research.google.com/assets/colab-badge.svg\" alt=\"Open In Colab\"/></a>"
      ]
    },
    {
      "cell_type": "markdown",
      "source": [
        "1. Importe o módulo math e calcule a raiz quadrada de um número inteiro.\n"
      ],
      "metadata": {
        "id": "i_EUcphDY1YO"
      }
    },
    {
      "cell_type": "code",
      "execution_count": null,
      "metadata": {
        "id": "Su0fgvQRWo5J"
      },
      "outputs": [],
      "source": [
        "import math\n",
        "\n",
        "sqrValue = math.pow(25.3, 2)\n",
        "print(\"pi: \", math.pi)\n",
        "print(\"pow: \", math.pow(3, 2))\n",
        "print(\"ceil: \", math.ceil(7.24))\n",
        "print(\"floor: \", math.floor(7.24))\n",
        "print(\"sqrt: \", math.sqrt(9))\n",
        "print(\"sin\", math.sin(90))\n",
        "print(\"cos\", math.cos(90))\n",
        "print(\"tan\", math.tan(90))"
      ]
    },
    {
      "cell_type": "code",
      "source": [
        "import math\n",
        "sr = math.sqrt(64)\n",
        "print (sr)"
      ],
      "metadata": {
        "id": "kiadl5r6ciwb"
      },
      "execution_count": null,
      "outputs": []
    },
    {
      "cell_type": "markdown",
      "source": [
        "2. Importe o módulo datetime e exiba a data e hora atuais.\n"
      ],
      "metadata": {
        "id": "Xz2FaMkgYydC"
      }
    },
    {
      "cell_type": "code",
      "source": [
        "from datetime import datetime\n",
        "\n",
        "sd = datetime.now()\n",
        "\n",
        "h = sd.hour\n",
        "m = sd.minute\n",
        "s = sd.second\n",
        "\n",
        "print(f\"Hour: {h}, Minute: {m}, Second: {s}\")"
      ],
      "metadata": {
        "id": "-ZsbVm2GYzcZ"
      },
      "execution_count": null,
      "outputs": []
    },
    {
      "cell_type": "markdown",
      "source": [
        "3. Use o módulo string para verificar se uma string contém apenas dígitos.\n"
      ],
      "metadata": {
        "id": "H7WP9UzbYyaq"
      }
    },
    {
      "cell_type": "code",
      "source": [
        "import string\n",
        "print(string.ascii_letters)\n",
        "print(string.ascii_lowercase)\n",
        "print(string.ascii_uppercase)\n",
        "print(string.digits)\n",
        "print(string.hexdigits)\n",
        "print(string.whitespace)\n",
        "print(string.punctuation)\n",
        "\n",
        "\n",
        "\n",
        "a = '546465'\n",
        "b = 'afedd'\n",
        "c = 'fg45fh46'\n",
        "a = str.isdigit(a)\n",
        "print(a)\n",
        "b=str.isdigit(b)\n",
        "print(b)\n",
        "c=str.isdigit(c)\n",
        "print(c)\n",
        "\n"
      ],
      "metadata": {
        "id": "rfpkV8UQZe2f"
      },
      "execution_count": null,
      "outputs": []
    },
    {
      "cell_type": "code",
      "source": [
        "https://pt.linux-console.net/?p=5937"
      ],
      "metadata": {
        "id": "A4zYhheD2MLx"
      },
      "execution_count": null,
      "outputs": []
    },
    {
      "cell_type": "markdown",
      "source": [
        "4. Importe o módulo random e gere um número aleatório entre 1 e 100.\n"
      ],
      "metadata": {
        "id": "aR-yIsxaYyYL"
      }
    },
    {
      "cell_type": "code",
      "source": [
        "import random\n",
        "sd = random.randint(1,100)\n",
        "print(sd)"
      ],
      "metadata": {
        "id": "bCo06wsaZfhm",
        "colab": {
          "base_uri": "https://localhost:8080/"
        },
        "outputId": "478b9ef6-7837-4a6d-c130-43cc6df677fd"
      },
      "execution_count": null,
      "outputs": [
        {
          "output_type": "stream",
          "name": "stdout",
          "text": [
            "42\n"
          ]
        }
      ]
    },
    {
      "cell_type": "markdown",
      "source": [
        "5. Importe a biblioteca numpy e crie uma array com os números de 1 a 10.\n"
      ],
      "metadata": {
        "id": "MrsWOyL1YyIT"
      }
    },
    {
      "cell_type": "code",
      "source": [
        "import numpy as np\n",
        "my_array = np.array([1, 2, 3, 4, 5, 6, 7, 8, 9, 10])\n",
        "print(my_array)"
      ],
      "metadata": {
        "id": "bIqQE0t_mlIQ"
      },
      "execution_count": null,
      "outputs": []
    },
    {
      "cell_type": "code",
      "source": [
        "https://medium.com/ensina-ai/entendendo-a-biblioteca-numpy-4858fde63355"
      ],
      "metadata": {
        "id": "j6IRxWJ8nFPh"
      },
      "execution_count": null,
      "outputs": []
    },
    {
      "cell_type": "markdown",
      "source": [
        "6. Escreva um programa que importe o pacote numpy e crie uma matriz de zeros\n",
        "com dimensões 3x3.\n"
      ],
      "metadata": {
        "id": "ObTxV8YwYyFK"
      }
    },
    {
      "cell_type": "code",
      "source": [
        "import numpy as np\n",
        "\n",
        "sd = np.zeros((3, 3))\n",
        "print(sd)"
      ],
      "metadata": {
        "id": "wgZUxu-7Zg00"
      },
      "execution_count": null,
      "outputs": []
    },
    {
      "cell_type": "markdown",
      "source": [
        "7. Importe a biblioteca matplotlib e crie um gráfico de barras simples com alguns\n",
        "dados fictícios.\n"
      ],
      "metadata": {
        "id": "IiZZ-VYaYyBc"
      }
    },
    {
      "cell_type": "code",
      "source": [
        "import matplotlib.pyplot as plt\n",
        "import numpy as np\n",
        "import random\n",
        "sd = random.randint(1,5)\n",
        "a = np.array([1, sd, 3, 4, 5, 6, 7, 8, 9, 10])\n",
        "#a = [1, 2, 3, 4, 5, 6, 7, 8, 9, 10]\n",
        "ind = range(len(a))\n",
        "p = plt.bar(ind, a)\n",
        "plt.show(p)"
      ],
      "metadata": {
        "id": "vAFoqobfZhpZ"
      },
      "execution_count": null,
      "outputs": []
    },
    {
      "cell_type": "markdown",
      "source": [
        "8. Escreva um programa que importe o pacote matplotlib e plote a função seno.\n"
      ],
      "metadata": {
        "id": "_2AtFUceYx1s"
      }
    },
    {
      "cell_type": "code",
      "source": [
        "import matplotlib.pyplot as plt\n",
        "import numpy as np\n",
        "# gerando os dados para efetuar a plotagem do gráfico do seno\n",
        "x = np.linspace(-2*np.pi, 2*np.pi, 100)\n",
        "fx = np.sin(x)\n",
        "# Plotando o gráfico a partir dos dados gerados\n",
        "plt.figure(figsize=(12, 5))\n",
        "plt.plot(x, fx)\n",
        "plt.axhline(0, color='gray', lw=1.2)  # Cria o eixo horizontal\n",
        "plt.axvline(0, color='gray', lw=1.2)  # Cria o eixo vertical\n",
        "plt.show()"
      ],
      "metadata": {
        "id": "IZqYxBUXZiJe",
        "colab": {
          "base_uri": "https://localhost:8080/",
          "height": 445
        },
        "outputId": "c9b5cccc-5d11-48e0-934b-1e9df43c6992"
      },
      "execution_count": null,
      "outputs": [
        {
          "output_type": "display_data",
          "data": {
            "text/plain": [
              "<Figure size 1200x500 with 1 Axes>"
            ],
            "image/png": "[encoded data removed]"
          },
          "metadata": {}
        }
      ]
    },
    {
      "cell_type": "markdown",
      "source": [
        "9. Importe o pacote requests e faça uma requisição HTTP para um URL e exiba o\n",
        "código de status.\n"
      ],
      "metadata": {
        "id": "5v_pS3_zYxzY"
      }
    },
    {
      "cell_type": "code",
      "source": [
        "import requests\n",
        "url = \"https://www.linkedin.com/pulse/verificando-os-c%C3%B3digos-de-status-das-respostas-sites-com-henrique/?originalSubdomain=pt\"\n",
        "page = requests.get(url)\n",
        "print (page.status_code)"
      ],
      "metadata": {
        "id": "OKdmdT_TZit2",
        "colab": {
          "base_uri": "https://localhost:8080/"
        },
        "outputId": "affc532e-5a65-4876-dcf1-7f00d63f4f17"
      },
      "execution_count": null,
      "outputs": [
        {
          "output_type": "stream",
          "name": "stdout",
          "text": [
            "200\n"
          ]
        }
      ]
    },
    {
      "cell_type": "markdown",
      "source": [
        "10. Importe a biblioteca pandas, leia um arquivo CSV (por exemplo, \"dados.csv\") e\n",
        "exiba as primeiras linhas do DataFrame.\n"
      ],
      "metadata": {
        "id": "aIOMhhhLYxwa"
      }
    },
    {
      "cell_type": "code",
      "source": [
        "import pandas as pd\n",
        "dt = pd.read_csv('dataset.csv')\n",
        "#print (dt.to_string())\n",
        "parcial = dt.head(2)\n",
        "print(parcial)"
      ],
      "metadata": {
        "id": "YMclan--Zj4m",
        "colab": {
          "base_uri": "https://localhost:8080/"
        },
        "outputId": "5e6432cb-323b-4525-bc25-f573811b3e22"
      },
      "execution_count": null,
      "outputs": [
        {
          "output_type": "stream",
          "name": "stdout",
          "text": [
            "   Qual sua idade?   Qual sua altura em metros?  Seu peso em kg. Sexo?  \\\n",
            "0                20                        1.82               85     M   \n",
            "1                25                        1.72               64     M   \n",
            "\n",
            "                      Grau de escolaridade? Em qual estado você nasceu?  \\\n",
            "0  Ensino superior (completo ou incompleto)                          SP   \n",
            "1    Pós-graduação (completo ou incompleto)                          MS   \n",
            "\n",
            "   Em quantos irmãos vocês são (contando contigo)?  \\\n",
            "0                                                3   \n",
            "1                                                5   \n",
            "\n",
            "   Quantos membros tem sua família? (Quantos moram contigo, ou 1 caso more sozinho)  \\\n",
            "0                                                  5                                  \n",
            "1                                                  1                                  \n",
            "\n",
            "  Você trabalha/estuda atualmente? Qual atividade realiza com mais frequência?  \n",
            "0                trabalho e estudo                                    Cozinhar  \n",
            "1                           estudo                                 Rede social  \n"
          ]
        }
      ]
    },
    {
      "cell_type": "markdown",
      "source": [
        "11. Escreva um programa que importe o módulo os e imprima o diretório de trabalho\n",
        "atual.\n"
      ],
      "metadata": {
        "id": "kX3CyYT6YxoT"
      }
    },
    {
      "cell_type": "code",
      "source": [
        "import os\n",
        "currentFiles = os.system(\"users > users.txt\")\n",
        "print (currentFiles)"
      ],
      "metadata": {
        "id": "XXEsEMAYZm9u",
        "colab": {
          "base_uri": "https://localhost:8080/"
        },
        "outputId": "73c27a5f-2500-4fb3-c855-ff6f05f4de95"
      },
      "execution_count": null,
      "outputs": [
        {
          "output_type": "stream",
          "name": "stdout",
          "text": [
            "0\n"
          ]
        }
      ]
    },
    {
      "cell_type": "markdown",
      "source": [
        "12. Escreva um programa que importe o pacote beautifulsoup4 e faça a raspagem\n",
        "de dados (web crawling) de uma página HTML.\n"
      ],
      "metadata": {
        "id": "Z_fErbsbYxcs"
      }
    },
    {
      "cell_type": "code",
      "source": [
        "from bs4 import BeautifulSoup\n",
        "import requests\n",
        "\n",
        "site = \"https://diegomariano.com/web-scraping-com-pyth\" # DEFINIR SITE A SER RASPADO\n",
        "\n",
        "# Coleta os dados do site\n",
        "html = requests.get(site)\n",
        "print(html.text)    # IMPRIMIR RASP"
      ],
      "metadata": {
        "id": "2Wc7tp3ZZmGU"
      },
      "execution_count": null,
      "outputs": []
    },
    {
      "cell_type": "code",
      "source": [
        "from bs4 import BeautifulSoup\n",
        "import requests\n",
        "\n",
        "# Site que será coletado\n",
        "site = \"https://diegomariano.com/web-scraping-com-pyth\"\n",
        "\n",
        "# Coleta os dados do site\n",
        "html = requests.get(site).content\n",
        "\n",
        "# Formatando os dados\n",
        "dados = BeautifulSoup(html, 'html.parser')\n",
        "print(dados.prettify())"
      ],
      "metadata": {
        "id": "1iS0_l9zcaVp"
      },
      "execution_count": null,
      "outputs": []
    },
    {
      "cell_type": "markdown",
      "source": [
        "13. Crie um módulo personalizado chamado de calculadora com uma função que\n",
        "some dois números. Em seguida, importe e use essa função."
      ],
      "metadata": {
        "id": "28BL4RPWZT-0"
      }
    },
    {
      "cell_type": "code",
      "source": [
        "%%writefile calculadora.py\n",
        "def soma  (var1 , var2):\n",
        " return var1 + var2"
      ],
      "metadata": {
        "id": "Nk7unpZvZlkN",
        "colab": {
          "base_uri": "https://localhost:8080/"
        },
        "outputId": "11f98fa8-7cf0-4c6a-fce5-f49c0db03930"
      },
      "execution_count": null,
      "outputs": [
        {
          "output_type": "stream",
          "name": "stdout",
          "text": [
            "Overwriting calculadora.py\n"
          ]
        }
      ]
    },
    {
      "cell_type": "code",
      "source": [
        "from calculadora import soma\n",
        "resultado = soma (8,65)\n",
        "print (resultado)"
      ],
      "metadata": {
        "colab": {
          "base_uri": "https://localhost:8080/"
        },
        "id": "0wlmrg-Nhq9q",
        "outputId": "c2eb91fb-6c86-4b2c-8275-3dbb195f3f5b"
      },
      "execution_count": null,
      "outputs": [
        {
          "output_type": "stream",
          "name": "stdout",
          "text": [
            "73\n"
          ]
        }
      ]
    },
    {
      "cell_type": "markdown",
      "source": [
        "14. Suponha que estamos desenvolvendo um jogo. Uma possível organização de\n",
        "pacotes e módulos poderia ser mostrada na figura abaixo.\n",
        "\n",
        "\n",
        "\n",
        "\n",
        "Nota: Um diretório deve conter um arquivo chamado __init__.py para que o\n",
        "Python o considere um pacote. Este arquivo pode ser deixado vazio, mas\n",
        "geralmente colocamos o código de inicialização desse pacote neste arquivo.\n",
        "\n",
        "Baseado na figura acima, execute os comandos necessários que se seguem.\n",
        "a) Importar o módulo start\n",
        "b) Suponha que este módulo (i.e. start), contém uma função chamada\n",
        "select_dificulty(). Qual o comando para importá-lo?\n",
        "c) Importe o módulo change sem usar o prefixo do pacote\n",
        "d) Agora escreva o comando para importar o módulo play"
      ],
      "metadata": {
        "id": "7TBYItNvZU2V"
      }
    },
    {
      "cell_type": "code",
      "source": [
        "#a) Importar o módulo start\n",
        "from game import level.start\n",
        "#b) Suponha que este módulo (i.e. start), contém uma função chamada select_dificulty(). Qual o comando para importá-lo?\n",
        "from game import star,\n",
        ",\n",
        "t.select_dificulty\n",
        "#c) Importe o módulo change sem usar o prefixo do pacote\n",
        "from game import image.change\n",
        "#d) Agora escreva o comando para importar o módulo play\n",
        "from game import sound.play"
      ],
      "metadata": {
        "id": "ODkS-Q76ZpSw"
      },
      "execution_count": null,
      "outputs": []
    }
  ]
}